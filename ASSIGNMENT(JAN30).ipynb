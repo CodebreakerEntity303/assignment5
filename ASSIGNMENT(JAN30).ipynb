{
 "cells": [
  {
   "cell_type": "code",
   "execution_count": 1,
   "id": "a6b9c950",
   "metadata": {},
   "outputs": [
    {
     "name": "stdout",
     "output_type": "stream",
     "text": [
      "ENTER PERCENTAGES : \n",
      "95\n",
      "-----GRADES-----\n",
      "GRADE A\n"
     ]
    }
   ],
   "source": [
    "#Q1\n",
    "a=[]\n",
    "n = int(input(\"ENTER PERCENTAGES : \\n\"))\n",
    "for i in range(0,4):\n",
    "    a.append(n)\n",
    "\n",
    "print(\"-----GRADES-----\")\n",
    "\n",
    "for n in a:\n",
    "    if(n >= 90):\n",
    "        print(\"GRADE A\")\n",
    "        break\n",
    "\n",
    "    elif(n >= 80 and n<= 90):\n",
    "        print(\"GRADE B\")\n",
    "        break\n",
    "    \n",
    "    elif(n >= 70 and n<= 80):\n",
    "        print(\"GRADE C\")\n",
    "        break\n",
    "    \n",
    "    elif(n >= 60 and n<=70):\n",
    "        print(\"GRADE D\")\n",
    "        break\n",
    "    else: \n",
    "        print(\"Failed\")\n",
    "        break"
   ]
  },
  {
   "cell_type": "code",
   "execution_count": 4,
   "id": "f649d6ae",
   "metadata": {},
   "outputs": [
    {
     "name": "stdout",
     "output_type": "stream",
     "text": [
      "ENTER COST PRICE : \n",
      "600000\n",
      "-----TAX-----\n",
      "TAX = 15%\n"
     ]
    }
   ],
   "source": [
    "#Q2\n",
    "a=[]\n",
    "n = int(input(\"ENTER COST PRICE : \\n\"))\n",
    "for i in range(0,n):\n",
    "    a.append(n)\n",
    "\n",
    "print(\"-----TAX-----\")\n",
    "\n",
    "for n in a:\n",
    "    if(n >= 100000):\n",
    "        print(\"TAX = 15%\")\n",
    "        break\n",
    "\n",
    "    elif(n >= 50000 and n<= 100000):\n",
    "        print(\"TAX = 10%\")\n",
    "        break\n",
    "    \n",
    "    elif(n <= 50000):\n",
    "        print(\"TAX = 5%\")\n",
    "        break\n",
    "        \n",
    "    else: \n",
    "        print(\"INCORRECT COST PRICE\")\n",
    "        break\n"
   ]
  },
  {
   "cell_type": "code",
   "execution_count": 12,
   "id": "d35aa45a",
   "metadata": {},
   "outputs": [
    {
     "name": "stdout",
     "output_type": "stream",
     "text": [
      "ENTER STATE: \n",
      "DELHI\n",
      "-----MONUMENTS-----\n",
      "RED FORT\n"
     ]
    }
   ],
   "source": [
    "#Q3\n",
    "n=str(input(\"ENTER STATE: \\n\"))\n",
    "    \n",
    "print(\"-----MONUMENTS-----\")\n",
    "\n",
    "if(n == \"DELHI\"):\n",
    "    print(\"RED FORT\")\n",
    "elif(n == \"AGRA\"):\n",
    "    print(\"TAJ MAHAL\")\n",
    "elif(n == \"JAIPUR\"):\n",
    "    print(\"JAL MAHAL\")\n",
    "else: \n",
    "    print(\"INCORRECT STATE\")"
   ]
  },
  {
   "cell_type": "code",
   "execution_count": 14,
   "id": "32d598e9",
   "metadata": {},
   "outputs": [
    {
     "name": "stdout",
     "output_type": "stream",
     "text": [
      "Enter a number: 12384\n",
      "The number 12384 is divided by 3 7 times before it becomes less than or equal to 10.\n"
     ]
    }
   ],
   "source": [
    "#Q4\n",
    "def division_3(n):\n",
    "    count = 0\n",
    "    while n > 10:\n",
    "        n /= 3\n",
    "        count += 1\n",
    "    return count\n",
    "number = int(input(\"Enter a number: \"))\n",
    "divisions = division_3(number)\n",
    "print(\"The number\", number, \"is divided by 3\", divisions, \"times before it becomes less than or equal to 10.\")\n"
   ]
  },
  {
   "cell_type": "code",
   "execution_count": 2,
   "id": "83053657",
   "metadata": {},
   "outputs": [
    {
     "name": "stdout",
     "output_type": "stream",
     "text": [
      "Python While Loop is used to execute a block of statements repeatedly until a given condition is \n",
      "satisfied.And when the condition becomes false, the line immediately after the loop in the program is executed.When a while loop is executed, expr is first evaluated in a Boolean context and if it is \n",
      "true,the loop body is executed. Then the expr is checked again, if it is still true then the body is executed again and this continues until the expression becomes false. \n",
      "0\n",
      "1\n",
      "2\n",
      "3\n",
      "BINGO\n"
     ]
    }
   ],
   "source": [
    "#Q5\n",
    "print('''Python While Loop is used to execute a block of statements repeatedly until a given condition is \n",
    "satisfied.And when the condition becomes false, the line immediately after the loop in the program is executed.When a while loop is executed, expr is first evaluated in a Boolean context and if it is \n",
    "true,the loop body is executed. Then the expr is checked again, if it is still true then the body is executed again and this continues until the expression becomes false. ''')\n",
    "\n",
    "for i in range(0,4):\n",
    "    print(i)\n",
    "    while (i == 3):\n",
    "        print(\"BINGO\")\n",
    "        break"
   ]
  },
  {
   "cell_type": "code",
   "execution_count": 2,
   "id": "75c0573e",
   "metadata": {},
   "outputs": [
    {
     "name": "stdout",
     "output_type": "stream",
     "text": [
      "1 \n",
      "1 2 \n",
      "1 2 3 \n",
      "1 2 3 4 \n",
      "1 2 3 4 5 \n",
      "1 1 1 1 1 \n",
      "2 2 2 2 \n",
      "3 3 3 \n",
      "4 4 \n",
      "5 \n",
      "1 \n",
      "1 2 \n",
      "1 2 3 \n",
      "1 2 3 4 \n",
      "1 2 3 4 5 \n"
     ]
    }
   ],
   "source": [
    "#Q6\n",
    "rows = 5\n",
    "for i in range(1, rows + 1):\n",
    "    for j in range(1, i + 1):\n",
    "        print(j, end=' ')\n",
    "    print('')\n",
    "rows = 5\n",
    "b = 0\n",
    "# reverse for loop from 5 to 0\n",
    "for i in range(rows, 0, -1):\n",
    "    b += 1\n",
    "    for j in range(1, i + 1):\n",
    "        print(b, end=' ')\n",
    "    print('\\r')\n",
    "rows = 5\n",
    "for i in range(1, rows + 1):\n",
    "    for j in range(1, i + 1):\n",
    "        print(j, end=' ')\n",
    "    print('')"
   ]
  },
  {
   "cell_type": "code",
   "execution_count": 12,
   "id": "f9ac98a3-477d-4fd8-a1de-74af4ea19595",
   "metadata": {
    "tags": []
   },
   "outputs": [
    {
     "name": "stdout",
     "output_type": "stream",
     "text": [
      "10\n",
      "9\n",
      "8\n",
      "7\n",
      "6\n",
      "5\n",
      "4\n",
      "3\n",
      "2\n",
      "1\n"
     ]
    }
   ],
   "source": [
    "#Q7\n",
    "i = 10\n",
    "while i > 0:\n",
    "    print(i)\n",
    "    i = i - 1"
   ]
  },
  {
   "cell_type": "code",
   "execution_count": 13,
   "id": "efd0ab3e-dad4-4f04-859e-b19dcd265f13",
   "metadata": {
    "tags": []
   },
   "outputs": [
    {
     "name": "stdout",
     "output_type": "stream",
     "text": [
      "10\n",
      "9\n",
      "8\n",
      "7\n",
      "6\n",
      "5\n",
      "4\n",
      "3\n",
      "2\n",
      "1\n"
     ]
    }
   ],
   "source": [
    "#Q8\n",
    "i = 10\n",
    "while i > 0:\n",
    "    print(i)\n",
    "    i = i - 1"
   ]
  }
 ],
 "metadata": {
  "kernelspec": {
   "display_name": "Python 3 (ipykernel)",
   "language": "python",
   "name": "python3"
  },
  "language_info": {
   "codemirror_mode": {
    "name": "ipython",
    "version": 3
   },
   "file_extension": ".py",
   "mimetype": "text/x-python",
   "name": "python",
   "nbconvert_exporter": "python",
   "pygments_lexer": "ipython3",
   "version": "3.11.1"
  }
 },
 "nbformat": 4,
 "nbformat_minor": 5
}
